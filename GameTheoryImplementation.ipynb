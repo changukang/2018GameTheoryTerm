{
 "cells": [
  {
   "cell_type": "code",
   "execution_count": 1,
   "metadata": {
    "collapsed": true
   },
   "outputs": [],
   "source": [
    "##밀고 당기기 게임\n",
    "import pandas as panda\n",
    "\n",
    "\n",
    "class Game:\n",
    "    def __init__(self, players_, actions_, payoffs_):\n",
    "        self.players = players_\n",
    "        self.actions = actions_\n",
    "        self.payoffs = payoffs_      \n",
    "\n",
    "HC_Game = Game([\"Player1\", \"Player2\"],{\"Push\":0, \"Stall\":1, \"Pull\":2} ,\n",
    "               [[(-5,-5), (0,-1), (3,-3)], [(-1,0),(0,0),(1,0)], [(-3,3), (0,1), (2,2)]])\n",
    "\n",
    "\n"
   ]
  },
  {
   "cell_type": "code",
   "execution_count": 2,
   "metadata": {},
   "outputs": [
    {
     "data": {
      "text/html": [
       "<div>\n",
       "<style>\n",
       "    .dataframe thead tr:only-child th {\n",
       "        text-align: right;\n",
       "    }\n",
       "\n",
       "    .dataframe thead th {\n",
       "        text-align: left;\n",
       "    }\n",
       "\n",
       "    .dataframe tbody tr th {\n",
       "        vertical-align: top;\n",
       "    }\n",
       "</style>\n",
       "<table border=\"1\" class=\"dataframe\">\n",
       "  <thead>\n",
       "    <tr style=\"text-align: right;\">\n",
       "      <th></th>\n",
       "      <th>0</th>\n",
       "      <th>1</th>\n",
       "      <th>2</th>\n",
       "    </tr>\n",
       "  </thead>\n",
       "  <tbody>\n",
       "    <tr>\n",
       "      <th>0</th>\n",
       "      <td>(-5, -5)</td>\n",
       "      <td>(0, -1)</td>\n",
       "      <td>(3, -3)</td>\n",
       "    </tr>\n",
       "    <tr>\n",
       "      <th>1</th>\n",
       "      <td>(-1, 0)</td>\n",
       "      <td>(0, 0)</td>\n",
       "      <td>(1, 0)</td>\n",
       "    </tr>\n",
       "    <tr>\n",
       "      <th>2</th>\n",
       "      <td>(-3, 3)</td>\n",
       "      <td>(0, 1)</td>\n",
       "      <td>(2, 2)</td>\n",
       "    </tr>\n",
       "  </tbody>\n",
       "</table>\n",
       "</div>"
      ],
      "text/plain": [
       "          0        1        2\n",
       "0  (-5, -5)  (0, -1)  (3, -3)\n",
       "1   (-1, 0)   (0, 0)   (1, 0)\n",
       "2   (-3, 3)   (0, 1)   (2, 2)"
      ]
     },
     "execution_count": 2,
     "metadata": {},
     "output_type": "execute_result"
    }
   ],
   "source": [
    "panda.DataFrame(HC_Game.payoffs)"
   ]
  },
  {
   "cell_type": "code",
   "execution_count": 3,
   "metadata": {},
   "outputs": [
    {
     "data": {
      "text/plain": [
       "'Stall'"
      ]
     },
     "execution_count": 3,
     "metadata": {},
     "output_type": "execute_result"
    }
   ],
   "source": [
    "import random\n",
    "\n",
    "def StateRandGenerate():\n",
    "    index = random.randrange(0,3)\n",
    "    if index == 0:\n",
    "        return \"Push\"\n",
    "    elif index == 1:\n",
    "        return \"Stall\"\n",
    "    else: \n",
    "        return \"Pull\" \n",
    "\n",
    "StateRandGenerate()"
   ]
  },
  {
   "cell_type": "code",
   "execution_count": 4,
   "metadata": {},
   "outputs": [],
   "source": [
    "import math\n",
    "class PlayerModel_DFA:\n",
    "    def __init__(self, dfa, start):\n",
    "        self.dfa = dfa\n",
    "        self.start = start\n",
    "        \n",
    "dfa = {\"Push\":{'Push':'Push', 'Stall':\"Stall\", \"Pull\":\"Pull\"},\n",
    "       \"Stall\":{'Push':'Pull', 'Stall':'Push', \"Pull\":\"Pull\"},\n",
    "       \"Pull\":{'0':'Defer', 'S':'Pull', \"Pull\":\"Pull\"}}\n",
    "\n",
    "##The Structure of Automata\n",
    "##{CurrentState :{..., Input : NextState ,...}}\n",
    "\n",
    "\n",
    "###DFA of player models\n",
    "AllPull = {\"Pull\":{\"Pull\":\"Pull\", \"Stall\":\"Pull\", \"Push\":\"Pull\"}}\n",
    "AllStall = {\"Stall\":{\"Pull\":\"Stall\", \"Stall\":\"Stall\", \"Push\":\"Stall\"}}\n",
    "AllPush = {\"Push\":{\"Pull\":\"Push\", \"Stall\":\"Push\", \"Push\":\"Push\"}}\n",
    "TitForTat = {\n",
    "    \"Stall\" : {\"Pull\":\"Pull\", \"Stall\":\"Stall\", \"Push\":\"Push\"},\n",
    "    \"Push\" : {\"Pull\":\"Pull\", \"Stall\":\"Stall\", \"Push\":\"Push\"},\n",
    "    \"Pull\" : {\"Pull\":\"Pull\", \"Stall\":\"Stall\", \"Push\":\"Push\"}\n",
    "}\n",
    "Patient = {\n",
    "    \"Pull\" : { \"Pull\":\"Pull\", \"Stall\":\"Stall\", \"Push\":\"Stall\" },\n",
    "    \"Stall\" : {\"Pull\" : \"Pull\", \"Stall\" : \"Stall\", \"Push\":\"Push\"},\n",
    "    \"Push\" : {\"Pull\": \"Push\", \"Stall\" : \"Push\", \"Push\" : \"Push\"}\n",
    "}\n",
    "\n",
    "###Automata Player Models\n",
    "Player_AllPull = PlayerModel_DFA(AllPull, \"Pull\")\n",
    "Player_AllStall = PlayerModel_DFA(AllStall, \"Stall\")\n",
    "Player_AllPush = PlayerModel_DFA(AllPush, \"Push\")\n",
    "Player_TitForTat = PlayerModel_DFA(TitForTat, \"Pull\")\n",
    "Player_Patient = PlayerModel_DFA(Patient, \"Pull\")\n",
    "\n",
    "List_Players = [Player_AllPull, Player_AllStall, Player_AllPush, Player_TitForTat, Player_Patient]\n",
    "\n",
    "# Player1 = PlayerModel_DFA(dfa, \"Push\")\n",
    "# Player2 = PlayerModel_DFA(dfa, \"Defer\")\n",
    "\n",
    "def PlayGame(Game, Player1, Player2, iterate, W):\n",
    "    ##Init Player1,2 Score\n",
    "    Player1_Score = 0\n",
    "    Player2_Score = 0\n",
    "    \n",
    "    #Next State\n",
    "    Player1_Current_State = Player1.start\n",
    "    Player2_Current_State = Player2.start\n",
    "        \n",
    "    first_game = Game.payoffs[Game.actions[Player1_Current_State]][Game.actions[Player2_Current_State]]\n",
    "    Player1_Score = Player1_Score + first_game[0]\n",
    "    Player2_Score = Player1_Score + first_game[1]\n",
    "    for i in range(iterate-1):\n",
    "        Save_Player1 = Player1_Current_State\n",
    "        Save_Player2 = Player2_Current_State\n",
    "        \n",
    "        Player1_Current_State = Player1.dfa[Save_Player1][Save_Player2]\n",
    "        Player2_Current_State = Player2.dfa[Save_Player2][Save_Player1]\n",
    "        \n",
    "        next_game = Game.payoffs[Game.actions[Player1_Current_State]][Game.actions[Player2_Current_State]]\n",
    "        \n",
    "        ##Update Summation\n",
    "        Player1_Score = Player1_Score + math.pow(W, i+1)*next_game[0]\n",
    "        Player2_Score = Player2_Score + math.pow(W, i+1)*next_game[1]\n",
    "    return (Player1_Score, Player2_Score)\n",
    "\n"
   ]
  },
  {
   "cell_type": "code",
   "execution_count": 5,
   "metadata": {},
   "outputs": [],
   "source": [
    "def PlayGame_Random(Game, PlayerOpp, iterate):\n",
    "    PlayerRandomScore = 0\n",
    "    \n",
    "    PlayerRandom_Current_State = StateRandGenerate()\n",
    "    PlayerOpp_Current_State = PlayerOpp.start\n",
    "    \n",
    "    \n",
    "    first_game = Game.payoffs[Game.actions[PlayerRandom_Current_State]][Game.actions[PlayerOpp_Current_State]]\n",
    "    PlayerRandomScore = PlayerRandomScore + first_game[0]\n",
    "    for i in range(iterate-1):\n",
    "        Save_PlayerRandom = PlayerRandom_Current_State \n",
    "        Save_PlayerOpp_Current_State = PlayerOpp_Current_State\n",
    "        \n",
    "        PlayerRandom_Current_State =StateRandGenerate()\n",
    "        PlayerOpp_Current_State = PlayerOpp.dfa[Save_PlayerRandom][Save_PlayerOpp_Current_State]\n",
    "        \n",
    "        ##Update Summation\n",
    "        next_game = Game.payoffs[Game.actions[PlayerRandom_Current_State]][Game.actions[PlayerOpp_Current_State]]\n",
    "        PlayerRandomScore = PlayerRandomScore + next_game[0]\n",
    "    return PlayerRandomScore\n",
    "\n",
    "# print(PlayGame_Random(HC_Game, Player_TitForTat, 10))\n"
   ]
  },
  {
   "cell_type": "code",
   "execution_count": 6,
   "metadata": {},
   "outputs": [
    {
     "name": "stdout",
     "output_type": "stream",
     "text": [
      "11.999993204140122\n"
     ]
    }
   ],
   "source": [
    "##Result of All Pull VS Others\n",
    "\n",
    "Result = 0\n",
    "\n",
    "##With Automata\n",
    "for i in range(len(List_Players)):\n",
    "    Result = Result + PlayGame(HC_Game, Player_AllPull, List_Players[i], 50, 0.75)[0]\n",
    "print(Result)"
   ]
  },
  {
   "cell_type": "code",
   "execution_count": 7,
   "metadata": {},
   "outputs": [
    {
     "name": "stdout",
     "output_type": "stream",
     "text": [
      "2.0\n"
     ]
    }
   ],
   "source": [
    "##Result of All Stall VS Others\n",
    "\n",
    "Result = 0\n",
    "\n",
    "##With Automata\n",
    "for i in range(len(List_Players)):\n",
    "    Result = Result + PlayGame(HC_Game, Player_AllStall, List_Players[i], 50, 0.75)[0]\n",
    "print(Result)"
   ]
  },
  {
   "cell_type": "code",
   "execution_count": 8,
   "metadata": {},
   "outputs": [
    {
     "name": "stdout",
     "output_type": "stream",
     "text": [
      "-28.2499728165605\n"
     ]
    }
   ],
   "source": [
    "##Result of All Push VS Others\n",
    "\n",
    "Result = 0\n",
    "\n",
    "##With Automata\n",
    "for i in range(len(List_Players)):\n",
    "    Result = Result + PlayGame(HC_Game, Player_AllPush, List_Players[i], 50, 0.75)[0]\n",
    "print(Result)"
   ]
  },
  {
   "cell_type": "code",
   "execution_count": 9,
   "metadata": {},
   "outputs": [
    {
     "name": "stdout",
     "output_type": "stream",
     "text": [
      "5.9999977347133715\n"
     ]
    }
   ],
   "source": [
    "##Result of TitForTat VS Others\n",
    "\n",
    "Result = 0\n",
    "\n",
    "##With Automata\n",
    "for i in range(len(List_Players)):\n",
    "    Result = Result + PlayGame(HC_Game, Player_TitForTat, List_Players[i], 50, 0.75)[0]\n",
    "print(Result)"
   ]
  },
  {
   "cell_type": "code",
   "execution_count": 10,
   "metadata": {},
   "outputs": [
    {
     "name": "stdout",
     "output_type": "stream",
     "text": [
      "8.999997734713364\n"
     ]
    }
   ],
   "source": [
    "##Result of BePatient VS Others\n",
    "\n",
    "Result = 0\n",
    "\n",
    "##With Automata\n",
    "for i in range(len(List_Players)):\n",
    "    Result = Result + PlayGame(HC_Game, Player_Patient, List_Players[i], 50, 0.75)[0]\n",
    "print(Result)"
   ]
  }
 ],
 "metadata": {
  "kernelspec": {
   "display_name": "Python 3",
   "language": "python",
   "name": "python3"
  },
  "language_info": {
   "codemirror_mode": {
    "name": "ipython",
    "version": 3
   },
   "file_extension": ".py",
   "mimetype": "text/x-python",
   "name": "python",
   "nbconvert_exporter": "python",
   "pygments_lexer": "ipython3",
   "version": "3.6.3"
  }
 },
 "nbformat": 4,
 "nbformat_minor": 2
}
